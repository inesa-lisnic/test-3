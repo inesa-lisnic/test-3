{
 "cells": [
  {
   "cell_type": "code",
   "execution_count": 4,
   "id": "0b1636dc-e91f-41d5-ad39-237ade7d0e75",
   "metadata": {},
   "outputs": [],
   "source": [
    "import pandas as pd\n",
    "import seaborn as sns\n",
    "from sklearn.model_selection import train_test_split\n",
    "from sklearn.linear_model import LinearRegression\n",
    "\n",
    "from sklearn.metrics import mean_absolute_error\n",
    "from sklearn.metrics import mean_squared_error\n",
    "from sklearn.metrics import root_mean_squared_error"
   ]
  },
  {
   "cell_type": "code",
   "execution_count": 5,
   "id": "8e3082b4-1b79-4a3d-96b2-9e01d6ce745f",
   "metadata": {},
   "outputs": [
    {
     "name": "stdout",
     "output_type": "stream",
     "text": [
      "Train r2 = 0.8495846235389342\n",
      "Test r2 = 0.8486858713767871\n"
     ]
    }
   ],
   "source": [
    "diamonds = sns.load_dataset('diamonds')\n",
    "X = diamonds[['carat']]\n",
    "y = diamonds['price']\n",
    "X_train, X_test, y_train, y_test = train_test_split(X, y, \n",
    "                                                    test_size=0.3, \n",
    "                                                    random_state = 42)\n",
    "model = LinearRegression()\n",
    "model = model.fit(X_train, y_train)\n",
    "print('Train r2 =', model.score(X_train, y_train))\n",
    "print('Test r2 =', model.score(X_test, y_test))"
   ]
  },
  {
   "cell_type": "code",
   "execution_count": 6,
   "id": "385654f5-c671-4ec4-a187-315ed2d7f11f",
   "metadata": {},
   "outputs": [
    {
     "name": "stdout",
     "output_type": "stream",
     "text": [
      "1005.4239059275443\n",
      "2359889.605393768\n",
      "1536.1932187696207\n"
     ]
    }
   ],
   "source": [
    "y_predicted = model.predict(X_test)\n",
    "\n",
    "mae = mean_absolute_error(y_test, y_predicted)\n",
    "mse = mean_squared_error(y_test, y_predicted)\n",
    "rmse = root_mean_squared_error(y_test, y_predicted)\n",
    "\n",
    "print(mae)\n",
    "print(mse)\n",
    "print(rmse)"
   ]
  },
  {
   "cell_type": "code",
   "execution_count": null,
   "id": "ede34373-3c65-4b87-a64f-4c1f534e5f4c",
   "metadata": {},
   "outputs": [],
   "source": []
  }
 ],
 "metadata": {
  "kernelspec": {
   "display_name": "Python 3 (ipykernel)",
   "language": "python",
   "name": "python3"
  },
  "language_info": {
   "codemirror_mode": {
    "name": "ipython",
    "version": 3
   },
   "file_extension": ".py",
   "mimetype": "text/x-python",
   "name": "python",
   "nbconvert_exporter": "python",
   "pygments_lexer": "ipython3",
   "version": "3.12.3"
  }
 },
 "nbformat": 4,
 "nbformat_minor": 5
}
